{
 "cells": [
  {
   "cell_type": "code",
   "execution_count": 1,
   "metadata": {},
   "outputs": [],
   "source": [
    "import time #import the time module. Used for adding pauses during operation\n",
    "from Arm_Lib import Arm_Device #import the module associated with the arm\n",
    "\n",
    "Arm = Arm_Device() # Get DOFBOT object\n",
    "time.sleep(.2) #this pauses execution for the given number of seconds"
   ]
  },
  {
   "cell_type": "code",
   "execution_count": 2,
   "metadata": {},
   "outputs": [],
   "source": [
    "def main(): #define the main program function\n",
    "    speedtime = 100 #time in milliseconds to reach desired joint position\n",
    "    #The print function is used to display helpful information to the console\n",
    "    print(\"Input joint number 0 to stop program execution\")\n",
    "    q = readAllActualJointAngles() # read the current position of all joints\n",
    "    print(q) #NOTE: any indices where q is nan indicates the joint is outside its commandable range (<0 or >180)\n",
    "    while True: #keep executing the indented code until jnum=0\n",
    "        jnum = getJointNumber() #use our defined function to get the joint number\n",
    "        #if the joint number provided is 0, loop execution ends\n",
    "        #if the joint number is not 0, we get the angle, move the joint, and read the angle\n",
    "        if jnum == 0: \n",
    "            break\n",
    "        else:\n",
    "            ang = getJointAngle(jnum)   #use our defined function to get the joint angle\n",
    "            moveJoint(jnum,ang,speedtime) #move the desired joint to the given angle\n",
    "            time.sleep(1) #add a pause to allow time for joints to move\n",
    "            angActual = readActualJointAngle(jnum) #read the actual position of the desired joint\n",
    "            print(\"Actual joint angle:\",angActual)\n",
    "    print(\"Program has been terminated by user\") #let the user know the program is no longer executing\n",
    "    "
   ]
  },
  {
   "cell_type": "code",
   "execution_count": 3,
   "metadata": {},
   "outputs": [],
   "source": [
    "def getJointNumber():\n",
    "    \"\"\"\n",
    "    function used to get the desired joint number using keyboard input\n",
    "    getJointNumber() requests user input the desired joint number and returns joint number as an integer\n",
    "    \"\"\"\n",
    "    jnum = int(input(\"Input joint number\")) #ask the user to input a joint number. int converts the input to an integer\n",
    "    print(\"Joint number: \",jnum) #print out the joint number that was read\n",
    "    #if the joint number is not valid, keep prompting until a valid number is given\n",
    "    if jnum<0 or jnum>6:\n",
    "        while True:\n",
    "            jnum = int(input(\"Input valid joint number [1,6]\"))\n",
    "            if jnum>=0 and jnum<=6:\n",
    "                break\n",
    "    return jnum #return the read value to the main function"
   ]
  },
  {
   "cell_type": "code",
   "execution_count": 4,
   "metadata": {},
   "outputs": [],
   "source": [
    "def getJointAngle(jnum):\n",
    "    \"\"\"\n",
    "    function used to get the desired joint angle using keyboard input\n",
    "    getJointAngle() requests user input the desired joint angle in degrees and returns joint angle as an integer\n",
    "    function needs to know the target joint (jnum) because joint 5 has a different angle range than the other joints\n",
    "    \"\"\"\n",
    "    ang = int(input(\"Input angle (degrees)\")) #ask the user to input a joint angle in degrees. int converts the input to an integer\n",
    "    print(\"Joint angle: \",ang) #print out the joint angle that was read\n",
    "    #if the joint angle is not valid, keep prompting until a valid number is given   \n",
    "    if jnum != 5: #range for all joints except 5 is 0 to 180 degrees\n",
    "        if ang<0 or ang>180:\n",
    "            while True:\n",
    "                ang = int(input(\"Input valid joint angle [0,180]\"))\n",
    "                if ang>=0 and ang<=180:\n",
    "                    break\n",
    "    else: #joint 5 range is 0 to 270 degrees\n",
    "        if ang<0 or ang>270:\n",
    "            while True:\n",
    "                ang = int(input(\"Input valid joint angle [0,270]\"))\n",
    "                if ang>=0 and ang<=270:\n",
    "                    break\n",
    "    return ang #return the read value to the main function"
   ]
  },
  {
   "cell_type": "code",
   "execution_count": 5,
   "metadata": {},
   "outputs": [],
   "source": [
    "def moveJoint(jnum,ang,speedtime):\n",
    "    \"\"\"\n",
    "    function used to move the specified joint to the given position\n",
    "    moveJoint(jnum, ang, speedtime) moves joint jnum to position ang degrees in speedtime milliseconds\n",
    "    function returns nothing\n",
    "    \"\"\"\n",
    "    # call the function to move joint number jnum to ang degrees in speedtime milliseconds\n",
    "    Arm.Arm_serial_servo_write(jnum,ang,speedtime)\n",
    "    return"
   ]
  },
  {
   "cell_type": "code",
   "execution_count": 6,
   "metadata": {},
   "outputs": [],
   "source": [
    "def readActualJointAngle(jnum):\n",
    "    \"\"\"\n",
    "    function used to read the position of the specified joint\n",
    "    readActualJointAngle(jnum) reads the position of joint jnum in degrees\n",
    "    function returns the joint position in degrees\n",
    "    \"\"\"\n",
    "    # call the function to read the position of joint number jnum\n",
    "    ang = Arm.Arm_serial_servo_read(jnum)\n",
    "    return ang"
   ]
  },
  {
   "cell_type": "code",
   "execution_count": 7,
   "metadata": {},
   "outputs": [],
   "source": [
    "#this cell provides two versions of a function to read all joint angles\n",
    "import numpy as np #import module numpy, assign new name for module (np) for readability\n",
    "\n",
    "# function to read and return all joint angles\n",
    "# returns joint angles as a 1x6 numpy array\n",
    "def readAllActualJointAngles():\n",
    "    q = np.array([Arm.Arm_serial_servo_read(1),Arm.Arm_serial_servo_read(2),Arm.Arm_serial_servo_read(3),Arm.Arm_serial_servo_read(4),Arm.Arm_serial_servo_read(5),Arm.Arm_serial_servo_read(6)])\n",
    "    return q\n",
    "\n",
    "# second version of function to read and return all joint angles\n",
    "# returns joint angles as a 6x1 numpy array\n",
    "def readAllActualJointAngles2():    \n",
    "    q = np.zeros((6,1)) #set up a 6x1 array placeholder\n",
    "    for i in range(1,7): #loop through each joint (Note range(1,N) = 1,2,...,N-1)\n",
    "        #note in Python the array indexing starts at 0 (the reason for i-1 index for q)\n",
    "        q[i-1] = Arm.Arm_serial_servo_read(i) #store read angle into corresponding index of q\n",
    "    return q"
   ]
  },
  {
   "cell_type": "markdown",
   "metadata": {},
   "source": [
    "#### execute the main loop unless the stop button is pressed to stop the kernel \n"
   ]
  },
  {
   "cell_type": "code",
   "execution_count": null,
   "metadata": {},
   "outputs": [
    {
     "name": "stdout",
     "output_type": "stream",
     "text": [
      "Input joint number 0 to stop program execution\n",
      "[ 89  59  19  90  90 157]\n"
     ]
    },
    {
     "name": "stdin",
     "output_type": "stream",
     "text": [
      "Input joint number 1\n"
     ]
    },
    {
     "name": "stdout",
     "output_type": "stream",
     "text": [
      "Joint number:  1\n"
     ]
    },
    {
     "name": "stdin",
     "output_type": "stream",
     "text": [
      "Input angle (degrees) 86\n"
     ]
    },
    {
     "name": "stdout",
     "output_type": "stream",
     "text": [
      "Joint angle:  86\n",
      "Actual joint angle: 86\n"
     ]
    },
    {
     "name": "stdin",
     "output_type": "stream",
     "text": [
      "Input joint number 3\n"
     ]
    },
    {
     "name": "stdout",
     "output_type": "stream",
     "text": [
      "Joint number:  3\n"
     ]
    },
    {
     "name": "stdin",
     "output_type": "stream",
     "text": [
      "Input angle (degrees) 30\n"
     ]
    },
    {
     "name": "stdout",
     "output_type": "stream",
     "text": [
      "Joint angle:  30\n",
      "Actual joint angle: 29\n"
     ]
    },
    {
     "name": "stdin",
     "output_type": "stream",
     "text": [
      "Input joint number 2\n"
     ]
    },
    {
     "name": "stdout",
     "output_type": "stream",
     "text": [
      "Joint number:  2\n"
     ]
    },
    {
     "name": "stdin",
     "output_type": "stream",
     "text": [
      "Input angle (degrees) 70\n"
     ]
    },
    {
     "name": "stdout",
     "output_type": "stream",
     "text": [
      "Joint angle:  70\n",
      "Actual joint angle: 69\n"
     ]
    },
    {
     "name": "stdin",
     "output_type": "stream",
     "text": [
      "Input joint number 2\n"
     ]
    },
    {
     "name": "stdout",
     "output_type": "stream",
     "text": [
      "Joint number:  2\n"
     ]
    },
    {
     "name": "stdin",
     "output_type": "stream",
     "text": [
      "Input angle (degrees) 70\n"
     ]
    },
    {
     "name": "stdout",
     "output_type": "stream",
     "text": [
      "Joint angle:  70\n",
      "Actual joint angle: 69\n"
     ]
    },
    {
     "name": "stdin",
     "output_type": "stream",
     "text": [
      "Input joint number 2\n"
     ]
    },
    {
     "name": "stdout",
     "output_type": "stream",
     "text": [
      "Joint number:  2\n"
     ]
    },
    {
     "name": "stdin",
     "output_type": "stream",
     "text": [
      "Input angle (degrees) 60\n"
     ]
    },
    {
     "name": "stdout",
     "output_type": "stream",
     "text": [
      "Joint angle:  60\n",
      "Actual joint angle: 59\n"
     ]
    },
    {
     "name": "stdin",
     "output_type": "stream",
     "text": [
      "Input joint number 2\n"
     ]
    },
    {
     "name": "stdout",
     "output_type": "stream",
     "text": [
      "Joint number:  2\n"
     ]
    },
    {
     "name": "stdin",
     "output_type": "stream",
     "text": [
      "Input angle (degrees) 50\n"
     ]
    },
    {
     "name": "stdout",
     "output_type": "stream",
     "text": [
      "Joint angle:  50\n",
      "Actual joint angle: 49\n"
     ]
    },
    {
     "name": "stdin",
     "output_type": "stream",
     "text": [
      "Input joint number 3\n"
     ]
    },
    {
     "name": "stdout",
     "output_type": "stream",
     "text": [
      "Joint number:  3\n"
     ]
    },
    {
     "name": "stdin",
     "output_type": "stream",
     "text": [
      "Input angle (degrees) 35\n"
     ]
    },
    {
     "name": "stdout",
     "output_type": "stream",
     "text": [
      "Joint angle:  35\n",
      "Actual joint angle: 34\n"
     ]
    },
    {
     "name": "stdin",
     "output_type": "stream",
     "text": [
      "Input joint number 2\n"
     ]
    },
    {
     "name": "stdout",
     "output_type": "stream",
     "text": [
      "Joint number:  2\n"
     ]
    },
    {
     "name": "stdin",
     "output_type": "stream",
     "text": [
      "Input angle (degrees) 40\n"
     ]
    },
    {
     "name": "stdout",
     "output_type": "stream",
     "text": [
      "Joint angle:  40\n",
      "Actual joint angle: 39\n"
     ]
    },
    {
     "name": "stdin",
     "output_type": "stream",
     "text": [
      "Input joint number 2\n"
     ]
    },
    {
     "name": "stdout",
     "output_type": "stream",
     "text": [
      "Joint number:  2\n"
     ]
    },
    {
     "name": "stdin",
     "output_type": "stream",
     "text": [
      "Input angle (degrees) 50\n"
     ]
    },
    {
     "name": "stdout",
     "output_type": "stream",
     "text": [
      "Joint angle:  50\n",
      "Actual joint angle: 49\n"
     ]
    },
    {
     "name": "stdin",
     "output_type": "stream",
     "text": [
      "Input joint number 2\n"
     ]
    },
    {
     "name": "stdout",
     "output_type": "stream",
     "text": [
      "Joint number:  2\n"
     ]
    },
    {
     "name": "stdin",
     "output_type": "stream",
     "text": [
      "Input angle (degrees) 60\n"
     ]
    },
    {
     "name": "stdout",
     "output_type": "stream",
     "text": [
      "Joint angle:  60\n",
      "Actual joint angle: 59\n"
     ]
    },
    {
     "name": "stdin",
     "output_type": "stream",
     "text": [
      "Input joint number 3\n"
     ]
    },
    {
     "name": "stdout",
     "output_type": "stream",
     "text": [
      "Joint number:  3\n"
     ]
    },
    {
     "name": "stdin",
     "output_type": "stream",
     "text": [
      "Input angle (degrees) 20\n"
     ]
    },
    {
     "name": "stdout",
     "output_type": "stream",
     "text": [
      "Joint angle:  20\n",
      "Actual joint angle: 19\n"
     ]
    },
    {
     "name": "stdin",
     "output_type": "stream",
     "text": [
      "Input joint number 2\n"
     ]
    },
    {
     "name": "stdout",
     "output_type": "stream",
     "text": [
      "Joint number:  2\n"
     ]
    },
    {
     "name": "stdin",
     "output_type": "stream",
     "text": [
      "Input angle (degrees) 35\n"
     ]
    },
    {
     "name": "stdout",
     "output_type": "stream",
     "text": [
      "Joint angle:  35\n",
      "Actual joint angle: 39\n"
     ]
    },
    {
     "name": "stdin",
     "output_type": "stream",
     "text": [
      "Input joint number 2\n"
     ]
    },
    {
     "name": "stdout",
     "output_type": "stream",
     "text": [
      "Joint number:  2\n"
     ]
    },
    {
     "name": "stdin",
     "output_type": "stream",
     "text": [
      "Input angle (degrees) 50\n"
     ]
    },
    {
     "name": "stdout",
     "output_type": "stream",
     "text": [
      "Joint angle:  50\n",
      "Actual joint angle: 48\n"
     ]
    },
    {
     "name": "stdin",
     "output_type": "stream",
     "text": [
      "Input joint number 2\n"
     ]
    },
    {
     "name": "stdout",
     "output_type": "stream",
     "text": [
      "Joint number:  2\n"
     ]
    },
    {
     "name": "stdin",
     "output_type": "stream",
     "text": [
      "Input angle (degrees) 60\n"
     ]
    },
    {
     "name": "stdout",
     "output_type": "stream",
     "text": [
      "Joint angle:  60\n",
      "Actual joint angle: 59\n"
     ]
    }
   ],
   "source": [
    "try: \n",
    "    main()\n",
    "    \n",
    "except KeyboardInterrupt:\n",
    "    print(\"Program Closed\")\n",
    "    pass\n",
    "del Arm"
   ]
  },
  {
   "cell_type": "code",
   "execution_count": null,
   "metadata": {},
   "outputs": [],
   "source": []
  }
 ],
 "metadata": {
  "kernelspec": {
   "display_name": "Python 3",
   "language": "python",
   "name": "python3"
  },
  "language_info": {
   "codemirror_mode": {
    "name": "ipython",
    "version": 3
   },
   "file_extension": ".py",
   "mimetype": "text/x-python",
   "name": "python",
   "nbconvert_exporter": "python",
   "pygments_lexer": "ipython3",
   "version": "3.6.9"
  }
 },
 "nbformat": 4,
 "nbformat_minor": 5
}
