{
 "cells": [
  {
   "cell_type": "code",
   "execution_count": 4,
   "metadata": {},
   "outputs": [],
   "source": [
    "import numpy as np\n",
    "import general_robotics_toolbox as rox\n"
   ]
  },
  {
   "cell_type": "code",
   "execution_count": 5,
   "metadata": {},
   "outputs": [],
   "source": [
    "def ik_Jinverse(robot,q0,Rd,Pd,Nmax,alpha,tol,J):\n",
    "    \n",
    "    n = (q0).shape[0]\n",
    "    T = rox.fwdkin(robot,q0)\n",
    "    R = T.R\n",
    "    P = T.p\n",
    "    \n",
    "    q = np.zeros((n, Nmax+1))\n",
    "    q[:,0] = q0 # output joint displacements\n",
    "    p0T = np.zeros((3,Nmax+1)) # output p\n",
    "    RPY0T = np.zeros((3,Nmax+1)) # output Euler angles\n",
    "    \n",
    "    iternum = 0\n",
    "    \n",
    "    # get the pose error\n",
    "    dR = np.matmul(R, Rd.T)\n",
    "    dX = np.concatenate((np.array(rox.R2rpy(dR))[None].T, np.reshape(P-Pd, (3,1))))\n",
    "    \n",
    "    # iterative update    \n",
    "    while (dX>tol).any():\n",
    "        if iternum <= Nmax:\n",
    "            # forward kinematics\n",
    "            p0T[:,iternum] = rox.fwdkin(robot, q[:, iternum]).p\n",
    "            R = rox.fwdkin(robot, q[:, iternum]).R\n",
    "            \n",
    "            Jq = rox.robotjacobian(robot, q[:, iternum])\n",
    "            RPY0T[:, iternum] = np.reshape(np.array(rox.R2rpy(R))[None].T, (3,))\n",
    "            \n",
    "            # get the pose error\n",
    "            dR = np.matmul(R,Rd.T)\n",
    "            dX = np.concatenate((np.array(rox.R2rpy(dR))[None].T, np.reshape(p0T[:, iternum]-Pd, (3,1))))\n",
    "            \n",
    "            # Jacobian update       \n",
    "            # dX = [beta s; P-Pd]\n",
    "            np.copyto(q[:,iternum+1],q[:,iternum]-alpha*np.reshape(np.matmul(np.linalg.pinv(Jq), dX), (n,)))\n",
    "            iternum = iternum + 1\n",
    "            \n",
    "        else:\n",
    "            break\n",
    "    \n",
    "    iternum = iternum - 1\n",
    "    \n",
    "    q, p0T, RPY0T = q[:, :iternum], p0T[:, :iternum], RPY0T[:, :iternum]\n",
    "    \n",
    "    return q"
   ]
  },
  {
   "cell_type": "code",
   "execution_count": 6,
   "metadata": {},
   "outputs": [],
   "source": [
    "def Define_Dofbot(): \n",
    "    l0 = 0.061\n",
    "    l1 = 0.0435\n",
    "    l2 = 0.08285\n",
    "    l3 = 0.08285\n",
    "    l4 = 0.07385\n",
    "    l5 = 0.05457\n",
    "    \n",
    "    ex = np.array([1, 0, 0])\n",
    "    ey = np.array([0, 1, 0])\n",
    "    ez = np.array([0, 0, 1])\n",
    "\n",
    "    DofbotP = np.array([(l0+l1)*ez, np.zeros((3,)), l2*ex, -l3*ez, np.zeros((3,)), -(l4+l5)*ex]).T\n",
    "    DofbotH = np.array([ez, -ey, -ey, -ey, -ex]).T\n",
    "    Dofbot_joint_type = np.array([0,0,0,0,0])\n",
    "\n",
    "    return rox.Robot(DofbotH, DofbotP, Dofbot_joint_type)\n"
   ]
  },
  {
   "cell_type": "code",
   "execution_count": 7,
   "metadata": {},
   "outputs": [],
   "source": [
    "def Test():\n",
    "    R0T = np.array([[-0.75, -0.1047, -0.6531], [-0.433, 0.8241, 0.3652], [0.5, 0.5567, -0.6634]])\n",
    "    P0T = np.array([0.2058, 0.1188, 0.1464])\n",
    "    q0 = np.array([25, 50, 75, 30, 30])*(np.pi/180)\n",
    "\n",
    "    tol = np.array([0.02, 0.02, 0.02, 0.001, 0.001, 0.001])\n",
    "    Nmax = 200\n",
    "    epsilon = 0.1 \n",
    "    alpha = 0.1\n",
    "\n",
    "    initialize_Dofbot = Define_Dofbot()\n",
    "    J = rox.robotjacobian(initialize_Dofbot, q0)\n",
    "    q = ik_Jinverse(initialize_Dofbot,q0,R0T,P0T,Nmax,alpha,tol,J)\n",
    "\n",
    "    print(np.rad2deg(q[:, -1]))\n"
   ]
  },
  {
   "cell_type": "code",
   "execution_count": 8,
   "metadata": {},
   "outputs": [
    {
     "name": "stdout",
     "output_type": "stream",
     "text": [
      "[29.57085253 45.60822546 79.23505823 25.48396132 39.24878898]\n"
     ]
    }
   ],
   "source": [
    "Test()"
   ]
  },
  {
   "cell_type": "code",
   "execution_count": null,
   "metadata": {},
   "outputs": [],
   "source": []
  }
 ],
 "metadata": {
  "kernelspec": {
   "display_name": "Python 3",
   "language": "python",
   "name": "python3"
  },
  "language_info": {
   "codemirror_mode": {
    "name": "ipython",
    "version": 3
   },
   "file_extension": ".py",
   "mimetype": "text/x-python",
   "name": "python",
   "nbconvert_exporter": "python",
   "pygments_lexer": "ipython3",
   "version": "3.6.9"
  }
 },
 "nbformat": 4,
 "nbformat_minor": 4
}
