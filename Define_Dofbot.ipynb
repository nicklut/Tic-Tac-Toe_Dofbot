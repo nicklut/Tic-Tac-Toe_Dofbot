{
 "cells": [
  {
   "cell_type": "code",
   "execution_count": 6,
   "metadata": {},
   "outputs": [],
   "source": [
    "def Define_Dofbot():\n",
    "    l0 = 0.061\n",
    "    l1 = 0.0435\n",
    "    l2 = 0.08285\n",
    "    l3 = 0.08285\n",
    "    l4 = 0.07385\n",
    "    l5 = 0.05457\n",
    "    \n",
    "    ex = np.array([1, 0, 0])\n",
    "    ey = np.array([0, 1, 0])\n",
    "    ez = np.array([0, 0, 1])\n",
    "    \n",
    "    DofbotP = np.array([(l0+l1)*ez, np.zeros((3,)), l2*ex, -l3*ez, np.zeros((3,)), -(l4+l5)*ex]).T\n",
    "    DofbotH = np.array([ez, -ey, -ey, -ey, -ex]).T\n",
    "    Dofbot_joint_type = np.array([0,0,0,0,0])\n",
    "    \n",
    "    return rox.Robot(DofbotH, DofbotP, Dofbot_joint_type)"
   ]
  }
 ],
 "metadata": {
  "kernelspec": {
   "display_name": "Python 3",
   "language": "python",
   "name": "python3"
  },
  "language_info": {
   "codemirror_mode": {
    "name": "ipython",
    "version": 3
   },
   "file_extension": ".py",
   "mimetype": "text/x-python",
   "name": "python",
   "nbconvert_exporter": "python",
   "pygments_lexer": "ipython3",
   "version": "3.6.9"
  }
 },
 "nbformat": 4,
 "nbformat_minor": 4
}
